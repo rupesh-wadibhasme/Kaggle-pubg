{
 "cells": [
  {
   "cell_type": "code",
   "execution_count": 2,
   "metadata": {},
   "outputs": [],
   "source": [
    "import numpy as np\n",
    "import pandas as pd\n",
    "import sys,random\n",
    "sys.path.append('..')"
   ]
  },
  {
   "cell_type": "code",
   "execution_count": 3,
   "metadata": {},
   "outputs": [
    {
     "name": "stdout",
     "output_type": "stream",
     "text": [
      "               Id         groupId         matchId  assists  boosts  \\\n",
      "0  7f96b2f878858a  4d4b580de459be  a10357fd1a4a91        0       0   \n",
      "1  eef90569b9d03c  684d5656442f9e  aeb375fc57110c        0       0   \n",
      "2  1eaf90ac73de72  6a4a42c3245a74  110163d8bb94ae        1       0   \n",
      "3  4616d365dd2853  a930a9c79cd721  f1f1f4ef412d7e        0       0   \n",
      "4  315c96c26c9aac  de04010b3458dd  6dc8ff871e21e6        0       0   \n",
      "\n",
      "   damageDealt  DBNOs  headshotKills  heals  killPlace      ...       revives  \\\n",
      "0         0.00      0              0      0         60      ...             0   \n",
      "1        91.47      0              0      0         57      ...             0   \n",
      "2        68.00      0              0      0         47      ...             0   \n",
      "3        32.90      0              0      0         75      ...             0   \n",
      "4       100.00      0              0      0         45      ...             0   \n",
      "\n",
      "   rideDistance  roadKills  swimDistance  teamKills vehicleDestroys  \\\n",
      "0        0.0000          0          0.00          0               0   \n",
      "1        0.0045          0         11.04          0               0   \n",
      "2        0.0000          0          0.00          0               0   \n",
      "3        0.0000          0          0.00          0               0   \n",
      "4        0.0000          0          0.00          0               0   \n",
      "\n",
      "   walkDistance  weaponsAcquired  winPoints  winPlacePerc  \n",
      "0        244.80                1       1466        0.4444  \n",
      "1       1434.00                5          0        0.6400  \n",
      "2        161.80                2          0        0.7755  \n",
      "3        202.70                3          0        0.1667  \n",
      "4         49.75                2          0        0.1875  \n",
      "\n",
      "[5 rows x 29 columns]\n"
     ]
    }
   ],
   "source": [
    "train = pd.read_csv('data/train_V2.csv')\n",
    "\n",
    "train=train[0:1000]\n",
    "\n",
    "print (train.head(5))\n",
    "\n",
    "test= pd.read_csv('data/test_V2.csv')\n"
   ]
  },
  {
   "cell_type": "code",
   "execution_count": 4,
   "metadata": {},
   "outputs": [],
   "source": [
    "rows=train.shape[0]\n",
    "\n",
    "target=train['winPlacePerc']\n",
    "\n",
    "train.drop(['Id','groupId','matchId','winPlacePerc'],inplace=True,axis=1)\n",
    "\n",
    "test.drop(['Id','groupId','matchId'],inplace=True,axis=1)\n",
    "\n",
    "combine= pd.concat([train,test],axis=0)\n",
    "\n",
    "#combine=pd.get_dummies(combine, prefix=['col1'])"
   ]
  },
  {
   "cell_type": "code",
   "execution_count": 5,
   "metadata": {},
   "outputs": [],
   "source": [
    "combine= pd.concat([train,test],axis=0)"
   ]
  },
  {
   "cell_type": "code",
   "execution_count": 6,
   "metadata": {},
   "outputs": [
    {
     "data": {
      "text/plain": [
       "24"
      ]
     },
     "execution_count": 6,
     "metadata": {},
     "output_type": "execute_result"
    }
   ],
   "source": [
    "cols = combine.columns\n",
    "cols=cols.drop('matchType')\n",
    "len(cols)"
   ]
  },
  {
   "cell_type": "code",
   "execution_count": 7,
   "metadata": {},
   "outputs": [],
   "source": [
    "rand_cols=random.sample(cols,5)"
   ]
  },
  {
   "cell_type": "code",
   "execution_count": 8,
   "metadata": {},
   "outputs": [
    {
     "name": "stdout",
     "output_type": "stream",
     "text": [
      "len of cols: 23\n",
      "len of combine cols: 71\n",
      "len of cols: 22\n",
      "len of combine cols: 115\n",
      "len of cols: 21\n",
      "len of combine cols: 157\n",
      "len of cols: 20\n",
      "len of combine cols: 197\n",
      "len of cols: 19\n",
      "len of combine cols: 235\n"
     ]
    }
   ],
   "source": [
    "for sample_col in rand_cols:\n",
    "    cols=cols.drop(sample_col)\n",
    "    print 'len of cols:',len(cols)\n",
    "    for col2 in cols:\n",
    "        combine[sample_col+'+'+col2]=combine[col2]+combine[sample_col]\n",
    "        combine[sample_col+'-'+col2]=abs(combine[col2]-combine[sample_col])\n",
    "        #combine[sample_col+'*'+col2]=combine[col2]*combine[sample_col]\n",
    "        \n",
    "    print 'len of combine cols:',len(combine.columns)    "
   ]
  },
  {
   "cell_type": "code",
   "execution_count": 8,
   "metadata": {},
   "outputs": [
    {
     "data": {
      "text/plain": [
       "235"
      ]
     },
     "execution_count": 8,
     "metadata": {},
     "output_type": "execute_result"
    }
   ],
   "source": [
    "#len(combine.columns)"
   ]
  },
  {
   "cell_type": "code",
   "execution_count": 9,
   "metadata": {},
   "outputs": [],
   "source": [
    "combine=pd.get_dummies(combine, prefix=['col1'])"
   ]
  },
  {
   "cell_type": "code",
   "execution_count": 18,
   "metadata": {},
   "outputs": [],
   "source": [
    "rows=train.shape[0]\n",
    "new_train=combine[:rows]\n",
    "new_test=combine[rows:]"
   ]
  },
  {
   "cell_type": "code",
   "execution_count": 13,
   "metadata": {},
   "outputs": [
    {
     "data": {
      "text/plain": [
       "(1935149, 250)"
      ]
     },
     "execution_count": 13,
     "metadata": {},
     "output_type": "execute_result"
    }
   ],
   "source": [
    "new_test.shape"
   ]
  },
  {
   "cell_type": "code",
   "execution_count": 19,
   "metadata": {},
   "outputs": [],
   "source": [
    "from sklearn.model_selection import train_test_split\n",
    "X_train,X_test,y_train,y_test = train_test_split(new_train, target, test_size = 0.2, random_state = 2)"
   ]
  },
  {
   "cell_type": "code",
   "execution_count": 20,
   "metadata": {},
   "outputs": [
    {
     "name": "stdout",
     "output_type": "stream",
     "text": [
      "Training until validation scores don't improve for 100 rounds.\n",
      "Early stopping, best iteration is:\n",
      "[335]\tvalid_0's l1: 0.0723514\n"
     ]
    }
   ],
   "source": [
    "import lightgbm as lgb\n",
    "params = {\n",
    "    'boosting_type':'gbdt',\n",
    "    'learning_rate': 0.1, \n",
    "    'max_depth': -1,\n",
    "    'num_leaves': 30,\n",
    "    'feature_fraction': 0.9,\n",
    "    'subsample': 0.8,\n",
    "    'min_data_in_leaf': 100,\n",
    "    'lambda_l2': 4,\n",
    "    'objective': 'regression_l2', \n",
    "    'zero_as_missing': True,\n",
    "    'metric': 'mae',\n",
    "    'seed': 2}\n",
    "    \n",
    "\n",
    "\n",
    "train_set = lgb.Dataset(X_train, y_train, silent=False)\n",
    "valid_set = lgb.Dataset(X_test, y_test, silent=False)\n",
    "model = lgb.train(params, train_set = train_set, num_boost_round=10000,early_stopping_rounds=100,verbose_eval=500, valid_sets=valid_set)\n"
   ]
  },
  {
   "cell_type": "code",
   "execution_count": null,
   "metadata": {},
   "outputs": [],
   "source": []
  }
 ],
 "metadata": {
  "kernelspec": {
   "display_name": "Python 2",
   "language": "python",
   "name": "python2"
  },
  "language_info": {
   "codemirror_mode": {
    "name": "ipython",
    "version": 2
   },
   "file_extension": ".py",
   "mimetype": "text/x-python",
   "name": "python",
   "nbconvert_exporter": "python",
   "pygments_lexer": "ipython2",
   "version": "2.7.12"
  }
 },
 "nbformat": 4,
 "nbformat_minor": 2
}
